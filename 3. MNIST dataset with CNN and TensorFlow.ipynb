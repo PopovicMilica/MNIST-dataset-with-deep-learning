{
 "cells": [
  {
   "cell_type": "markdown",
   "metadata": {},
   "source": [
    "## Importing data"
   ]
  },
  {
   "cell_type": "code",
   "execution_count": 1,
   "metadata": {
    "collapsed": false
   },
   "outputs": [],
   "source": [
    "# importing the necessary libraries\n",
    "import tensorflow as tf\n",
    "import numpy as np\n",
    "import pandas as pd\n",
    "import matplotlib.pyplot as plt\n",
    "%matplotlib inline\n",
    "from random import shuffle"
   ]
  },
  {
   "cell_type": "code",
   "execution_count": 2,
   "metadata": {
    "collapsed": false
   },
   "outputs": [],
   "source": [
    "# Load the data\n",
    "x = np.array(pd.read_csv('/Users/djape/Desktop/TrainDigitX.csv'))\n",
    "x_test = np.array(pd.read_csv('/Users/djape/Desktop/TestDigitX.csv'))\n",
    "y = np.array(pd.read_csv('/Users/djape/Desktop/TrainDigitY.csv'))\n",
    "y_test = np.array(pd.read_csv('/Users/djape/Desktop/TestDigitY.csv'))"
   ]
  },
  {
   "cell_type": "markdown",
   "metadata": {},
   "source": [
    "## Creating validation set"
   ]
  },
  {
   "cell_type": "code",
   "execution_count": 3,
   "metadata": {
    "collapsed": true
   },
   "outputs": [],
   "source": [
    "def get_train_valid_inds(y,train_proportion):\n",
    "    y=np.array(y)\n",
    "    train_inds = np.zeros(len(y),dtype=bool)\n",
    "    valid_inds = np.zeros(len(y),dtype=bool)\n",
    "    values = np.unique(y)\n",
    "    for value in values:\n",
    "        value_inds = np.nonzero(y==value)[0]\n",
    "        np.random.shuffle(value_inds)\n",
    "        n = int(train_proportion*len(value_inds))\n",
    "\n",
    "        train_inds[value_inds[:n]]=True\n",
    "        valid_inds[value_inds[n:]]=True\n",
    "    return train_inds,valid_inds"
   ]
  },
  {
   "cell_type": "code",
   "execution_count": 4,
   "metadata": {
    "collapsed": false
   },
   "outputs": [],
   "source": [
    "train_inds, valid_inds = get_train_valid_inds(y, 0.8)\n",
    "x_train = x[train_inds]\n",
    "y_train = y[train_inds]\n",
    "x_valid = x[valid_inds]\n",
    "y_valid = y[valid_inds]"
   ]
  },
  {
   "cell_type": "code",
   "execution_count": 5,
   "metadata": {
    "collapsed": false
   },
   "outputs": [],
   "source": [
    "from mlxtend.preprocessing import one_hot\n",
    "y_train_vector = one_hot(y_train.reshape(-1,), num_labels=10)\n",
    "y_valid_vector = one_hot(y_valid.reshape(-1,), num_labels=10)\n",
    "y_test_vector = one_hot(y_test.reshape(-1,), num_labels=10)"
   ]
  },
  {
   "cell_type": "markdown",
   "metadata": {},
   "source": [
    "## Creating functions that we will use later"
   ]
  },
  {
   "cell_type": "code",
   "execution_count": 6,
   "metadata": {
    "collapsed": false
   },
   "outputs": [],
   "source": [
    "# Defining a function for building a convolutional layer that we can call later multiple times if we want to stack more than\n",
    "# one convolutional layer when building our final architecture\n",
    "def convolution_layer_builder(input, kernel_size, num_kernels, stride_step, num_inputs_channels, scope_name):\n",
    "    \n",
    "    # Initializing weights and bias term:\n",
    "    with tf.variable_scope(scope_name):\n",
    "        \n",
    "        W_conv =np.sqrt(2)*tf.get_variable(\"W_conv\", shape=[kernel_size,kernel_size,num_inputs_channels,num_kernels],\n",
    "                                       initializer=tf.contrib.layers.xavier_initializer())\n",
    "        b_conv = np.sqrt(2)*tf.get_variable(\"b_conv\", shape=[num_kernels],initializer=tf.contrib.layers.xavier_initializer())\n",
    "    \n",
    "    # Performing convolution step and applying ReLU\n",
    "    h1 = tf.nn.relu(tf.nn.conv2d(input, W_conv, strides=[1, stride_step, stride_step, 1], padding = 'VALID') + b_conv)\n",
    "    \n",
    "    # Performing 2X2 pooling step\n",
    "    h2 = tf.nn.max_pool(h1, ksize=[1, 2, 2, 1],strides=[1, 2, 2, 1], padding = 'VALID')\n",
    "    print(h2)\n",
    "    return h2, W_conv"
   ]
  },
  {
   "cell_type": "code",
   "execution_count": 7,
   "metadata": {
    "collapsed": false
   },
   "outputs": [],
   "source": [
    "# We need to reshape the output of our final convolutional layer which is a 4 dimensional tensor into a 2 dimensinal matrix\n",
    "# before feeding it into a fully connected layer.\n",
    "def reshaping_output_con_layer(output_conv):\n",
    "    shape = output_conv.get_shape().as_list()\n",
    "    total_num_features = np.prod(shape[1:4])\n",
    "    output_reshaped = tf.reshape(output_conv, [-1, total_num_features])\n",
    "    return output_reshaped, total_num_features"
   ]
  },
  {
   "cell_type": "code",
   "execution_count": 8,
   "metadata": {
    "collapsed": false
   },
   "outputs": [],
   "source": [
    "def fully_connected_layer_builder(input, hidden_layer_size, total_num_features,scope_name):\n",
    "    \n",
    "    # We need to initialize weights and bias term for our fully connected layer\n",
    "    with tf.variable_scope(scope_name):\n",
    "        Theta = np.sqrt(2)*tf.get_variable(\"Theta\", shape=[total_num_features,hidden_layer_size ],\n",
    "                                                initializer=tf.contrib.layers.xavier_initializer())\n",
    "        b = np.sqrt(2)*tf.get_variable(\"b\", shape=[hidden_layer_size],initializer=tf.contrib.layers.xavier_initializer())\n",
    "     \n",
    "    print(Theta)\n",
    "    print(b)\n",
    "    # Defining the full connected neural network \n",
    "    hid_layer_activation = tf.nn.relu(tf.matmul(input, Theta)+b)\n",
    "    \n",
    "    return hid_layer_activation"
   ]
  },
  {
   "cell_type": "code",
   "execution_count": 9,
   "metadata": {
    "collapsed": true
   },
   "outputs": [],
   "source": [
    "def create_minibatches(x_train, y_train, batch_size, shuffle=False):\n",
    "    assert x_train.shape[0] == y_train.shape[0]\n",
    "    if shuffle:\n",
    "        indices = np.arange(x_train.shape[0])\n",
    "        np.random.shuffle(indices)\n",
    "    for start_idx in range(0, x_train.shape[0] - batch_size + 1, batch_size):\n",
    "        if shuffle:\n",
    "            excerpt = indices[start_idx:start_idx + batch_size]\n",
    "        else:\n",
    "            excerpt = slice(start_idx, start_idx + batch_size)\n",
    "    return x_train[excerpt], y_train[excerpt]"
   ]
  },
  {
   "cell_type": "code",
   "execution_count": 10,
   "metadata": {
    "collapsed": false
   },
   "outputs": [],
   "source": [
    "def plotting_filters_on_convolution_layer_1(weights, num_kernels_we_want_to_plot, figure_num, input_channel =0):\n",
    "    W_convolution = sess.run(weights)\n",
    "    num_kernels = W_convolution.shape[3]\n",
    "    indices = list(range(num_kernels))\n",
    "    shuffle(indices)\n",
    "\n",
    "    W_convolution_sample = W_convolution[:,:,input_channel,indices]\n",
    "    W_convolution_min = np.min(W_convolution_sample)\n",
    "    W_convolution_max = np.max(W_convolution_sample)\n",
    "    fig= plt.figure(figure_num)\n",
    "    plt.clf()\n",
    "    plt.title(['Weights in convolutional layer 1'])\n",
    "    plt.tick_params(axis='both', which='both', bottom='off', top='off', labelbottom='off', right='off', \n",
    "                    left='off', labelleft='off')\n",
    "    for i in range(num_kernels_we_want_to_plot):\n",
    "        fig.add_subplot(2,3,i+1) \n",
    "        plt.imshow(W_convolution[:,:,input_channel,indices[i]], vmin=W_convolution_min, vmax=W_convolution_max,\n",
    "                   cmap='seismic',interpolation = 'nearest')\n",
    "    return indices"
   ]
  },
  {
   "cell_type": "code",
   "execution_count": 24,
   "metadata": {
    "collapsed": true
   },
   "outputs": [],
   "source": [
    "def visualizing_feature_maps(output_conv_layer, image, num_feature_maps_we_want_to_plot, indices, figure_num):\n",
    "    feed_dict = {x: [image]}\n",
    "    values = sess.run(output_conv_layer, feed_dict=feed_dict)\n",
    "    fig= plt.figure(figure_num)\n",
    "    plt.clf()\n",
    "    plt.title(['Feature maps after first convolution'])\n",
    "    plt.tick_params(axis='both', which='both', bottom='off', top='off', labelbottom='off', right='off', \n",
    "                    left='off', labelleft='off')\n",
    "    for i in range(num_feature_maps_we_want_to_plot):\n",
    "        fig.add_subplot(2,3,i+1) \n",
    "        plt.imshow(values[0,:,:,indices[i]], cmap = 'viridis', interpolation = 'nearest')\n"
   ]
  },
  {
   "cell_type": "markdown",
   "metadata": {},
   "source": [
    "### Defining x and y as placeholders"
   ]
  },
  {
   "cell_type": "code",
   "execution_count": 12,
   "metadata": {
    "collapsed": false
   },
   "outputs": [],
   "source": [
    "# Defining shape of x and y \n",
    "x = tf.placeholder(tf.float32, shape=[None, 784])\n",
    "y = tf.placeholder(tf.float32, shape=[None, 10])\n",
    "# We are fixing learning rate and batch size value as a placeholders so we can experiment with their values later\n",
    "learning_rate = tf.placeholder(tf.float32)\n",
    "batch_size = tf.placeholder(tf.float32)"
   ]
  },
  {
   "cell_type": "markdown",
   "metadata": {},
   "source": [
    "## First model with one convolutional layer and two fully connected layers"
   ]
  },
  {
   "cell_type": "code",
   "execution_count": 13,
   "metadata": {
    "collapsed": true
   },
   "outputs": [],
   "source": [
    "# Defining configuration of our neural network:\n",
    "\n",
    "# Convolution layer 1\n",
    "kernel_size = 5 \n",
    "num_kernels = 6\n",
    "stride_step = 1\n",
    "\n",
    "# Fully connected layers \n",
    "hidden_layer_size1 = 300       \n",
    "hidden_layer_size2 = 300       "
   ]
  },
  {
   "cell_type": "code",
   "execution_count": 14,
   "metadata": {
    "collapsed": true
   },
   "outputs": [],
   "source": [
    "data_train_length = len(x_train)"
   ]
  },
  {
   "cell_type": "code",
   "execution_count": 15,
   "metadata": {
    "collapsed": false
   },
   "outputs": [
    {
     "name": "stdout",
     "output_type": "stream",
     "text": [
      "Tensor(\"MaxPool:0\", shape=(?, 12, 12, 6), dtype=float32)\n",
      "Tensor(\"l1/mul:0\", shape=(864, 300), dtype=float32)\n",
      "Tensor(\"l1/mul_1:0\", shape=(300,), dtype=float32)\n",
      "Tensor(\"l2/mul:0\", shape=(300, 300), dtype=float32)\n",
      "Tensor(\"l2/mul_1:0\", shape=(300,), dtype=float32)\n"
     ]
    }
   ],
   "source": [
    "# Reshaping the x vector into a tensor so that we can feed it to our convolutional layer which accepts only \n",
    "# 4 dimensional tensors\n",
    "x_reshaped_as_image = tf.reshape(x, [-1,28,28,1])\n",
    "        \n",
    "output_conv_layer1,W_conv1 = convolution_layer_builder(input = x_reshaped_as_image, kernel_size = kernel_size,\n",
    "                                                       num_kernels = num_kernels, stride_step = stride_step, \n",
    "                                                       num_inputs_channels = 1, scope_name = \"W_conv1\")\n",
    "        \n",
    "output_conv_layer1_reshaped, total_num_features = reshaping_output_con_layer(output_conv_layer1)\n",
    "output_fc_layer1 = fully_connected_layer_builder(input = output_conv_layer1_reshaped, hidden_layer_size=hidden_layer_size1,\n",
    "                                                         total_num_features = total_num_features, scope_name = \"l1\")\n",
    "output_fc_layer2 = fully_connected_layer_builder(input = output_fc_layer1, hidden_layer_size=hidden_layer_size2,\n",
    "                                                         total_num_features = hidden_layer_size1, scope_name = \"l2\")\n",
    "#Initializing weights for the final layer\n",
    "Theta2 = np.sqrt(2)*tf.get_variable(\"Theta2\", shape=[hidden_layer_size2,10],\n",
    "                                        initializer=tf.contrib.layers.xavier_initializer())\n",
    "b2 = np.sqrt(2)*tf.get_variable(\"b2\", shape=[10],initializer=tf.contrib.layers.xavier_initializer())\n",
    "        \n",
    "a3=tf.matmul(output_fc_layer2,Theta2) + b2\n",
    "y_predicted = tf.nn.softmax(a3)\n",
    "# Calculcating loss (cross entropy function)\n",
    "cross_entropy = tf.reduce_mean(tf.nn.softmax_cross_entropy_with_logits(labels=y, logits=a3))\n",
    "\n",
    "# Model training using Adam optimizer using learning rate of 0.003\n",
    "train_step = tf.train.AdamOptimizer(learning_rate).minimize(cross_entropy)\n",
    "correct_prediction = tf.equal(tf.argmax(y_predicted,1), tf.argmax(y,1))\n",
    "accuracy = tf.reduce_mean(tf.cast(correct_prediction, tf.float32))"
   ]
  },
  {
   "cell_type": "code",
   "execution_count": null,
   "metadata": {
    "collapsed": false
   },
   "outputs": [],
   "source": [
    "max_num_of_epochs = 10\n",
    "learning_rates = [0.0003, 0.003, 0.03, 0.1]\n",
    "Validation_error_dict2 = dict()\n",
    "for lr in learning_rates:\n",
    "    print (\"Learning rate \", str(lr))\n",
    "    bs = 200\n",
    "    sess = tf.InteractiveSession()\n",
    "    #Initializing all the variables\n",
    "    sess.run(tf.global_variables_initializer())\n",
    "    Validation_error = []\n",
    "    for i in range(int(max_num_of_epochs*data_train_length/bs)):\n",
    "        x_batch, y_batch = create_minibatches(x_train, y_train_vector, bs, shuffle=True)\n",
    "        sess.run(train_step, feed_dict={x: x_batch, y: y_batch, learning_rate: lr, batch_size:bs})\n",
    "        if i%int(data_train_length/bs)==0:\n",
    "            # Error for a training and validation set\n",
    "            error_train = 1 - accuracy.eval(feed_dict={x: x_train, y: y_train_vector})\n",
    "            error_valid = 1 - accuracy.eval(feed_dict={x: x_valid, y: y_valid_vector})\n",
    "            print(error_train, error_valid)\n",
    "            Validation_error.append(error_valid)\n",
    "    Validation_error_dict2[ str(lr) ] = Validation_error     \n"
   ]
  },
  {
   "cell_type": "code",
   "execution_count": null,
   "metadata": {
    "collapsed": false
   },
   "outputs": [],
   "source": [
    "plt.figure(2)\n",
    "plt.clf()\n",
    "for lr in learning_rates:\n",
    "    plt.plot(range(1,max_num_of_epochs+2), Validation_error_dict2[ str(lr) ],'-',lw=3)\n",
    "plt.xlabel('Epoch number',fontsize = 14)\n",
    "plt.ylabel('Error on the validation set',fontsize = 14)\n",
    "plt.xlim(0,11)\n",
    "\n",
    "plt.yticks(np.linspace(0,1,10))\n",
    "plt.ylim(0,1)\n",
    "plt.legend(['Learning rate = 0.0003','Learning rate = 0.003','Learning rate = 0.03',\n",
    "           'Learning rate = 0.1'],frameon = False)\n",
    "plt.show()"
   ]
  },
  {
   "cell_type": "code",
   "execution_count": 46,
   "metadata": {
    "collapsed": false
   },
   "outputs": [
    {
     "name": "stdout",
     "output_type": "stream",
     "text": [
      "Batch_size  50\n",
      "0.867433428764 0.866453424096\n",
      "0.0419552326202 0.0439823865891\n",
      "0.0315039157867 0.0384846329689\n",
      "0.0229778885841 0.0319871902466\n",
      "0.0188273787498 0.0263894200325\n",
      "0.00962620973587 0.0219911932945\n",
      "0.0098512172699 0.0201919078827\n",
      "0.00880110263824 0.0208916664124\n",
      "0.00580072402954 0.0170931816101\n",
      "0.00572574138641 0.0190923810005\n",
      "0.00590074062347 0.0207917094231\n",
      "0.0027003288269 0.0152938961983\n",
      "0.00230026245117 0.0161935091019\n",
      "0.00530064105988 0.0164933800697\n",
      "0.00190025568008 0.0148940682411\n",
      "0.00305038690567 0.017393052578\n",
      "0.00127518177032 0.01439422369\n",
      "0.00257533788681 0.0154938101768\n",
      "0.000925123691559 0.0148940682411\n",
      "0.00100010633469 0.0166932940483\n",
      "0.00100010633469 0.0149940252304\n",
      "Batch_size  100\n",
      "0.913014128804 0.915033988655\n",
      "0.0626328587532 0.0638744235039\n",
      "0.039979994297 0.0489804148674\n",
      "0.0270783901215 0.0360855460167\n",
      "0.0298787355423 0.03768491745\n",
      "0.0146768093109 0.0255897641182\n",
      "0.0160769820213 0.0261895060539\n",
      "0.0193524360657 0.0290883779526\n",
      "0.016252040863 0.0276889204979\n",
      "0.0115514397621 0.0252898931503\n",
      "0.00945121049881 0.0231907367706\n",
      "0.00630080699921 0.0208916664124\n",
      "0.00550067424774 0.0194922089577\n",
      "0.00552570819855 0.0191923379898\n",
      "0.00890111923218 0.0234906077385\n",
      "0.00340044498444 0.0162934660912\n",
      "0.0033004283905 0.0178928375244\n",
      "0.00392550230026 0.018092751503\n",
      "0.00287538766861 0.0176929235458\n",
      "0.00232529640198 0.0175929665565\n",
      "0.00620079040527 0.0225909352303\n",
      "Batch_size  200\n",
      "0.898062258959 0.897341065109\n",
      "0.0651331543922 0.0675729513168\n",
      "0.039704978466 0.0438824295998\n",
      "0.0299287438393 0.0348860621452\n",
      "0.0212776660919 0.0294882059097\n",
      "0.01907736063 0.028888463974\n",
      "0.0158019661903 0.0279887914658\n",
      "0.0121265053749 0.0250899791718\n",
      "0.0173771977425 0.0281887054443\n",
      "0.0105262994766 0.0240903496742\n",
      "0.0102012753487 0.0229908227921\n",
      "0.00680083036423 0.0204917788506\n",
      "0.00562572479248 0.0211915373802\n",
      "0.00552570819855 0.0203918218613\n",
      "0.00690084695816 0.0239903926849\n",
      "0.00527566671371 0.0223910212517\n",
      "0.0031253695488 0.0179927945137\n",
      "0.00227528810501 0.0175929665565\n",
      "0.00292533636093 0.0203918218613\n",
      "0.00287538766861 0.0187925100327\n",
      "0.00152516365051 0.0194922089577\n",
      "Batch_size  500\n",
      "0.858807355165 0.859156340361\n",
      "0.0998124480247 0.0934625864029\n",
      "0.063257932663 0.0604758262634\n",
      "0.0484810471535 0.0500799417496\n",
      "0.0415052175522 0.0442822575569\n",
      "0.0367045998573 0.0412834882736\n",
      "0.0315539240837 0.0359855890274\n",
      "0.0269033908844 0.0316873192787\n",
      "0.0232779383659 0.0297880768776\n",
      "0.0225028395653 0.028888463974\n",
      "0.0215777158737 0.0297880768776\n",
      "0.0191524028778 0.026689350605\n",
      "0.0156519412994 0.0236905217171\n",
      "0.0169520974159 0.0250899791718\n",
      "0.0124765634537 0.0219911932945\n",
      "0.0149768590927 0.0242902636528\n",
      "0.0104513168335 0.0212914943695\n",
      "0.0109513401985 0.0225909352303\n",
      "0.00992625951767 0.0219911932945\n",
      "0.0135517120361 0.026689350605\n",
      "0.00750094652176 0.0199919939041\n"
     ]
    }
   ],
   "source": [
    "max_num_of_epochs = 20\n",
    "batch_sizes = [50, 100, 200, 500]\n",
    "Validation_error_dict1 = dict()\n",
    "for bs in batch_sizes:\n",
    "    print (\"Batch_size \", str(bs))\n",
    "    lr = 0.0003\n",
    "    sess = tf.InteractiveSession()\n",
    "    # Initializing all the variables\n",
    "    sess.run(tf.global_variables_initializer())\n",
    "    Validation_error = []\n",
    "    for i in range(int(max_num_of_epochs*data_train_length/bs)):\n",
    "        x_batch, y_batch = create_minibatches(x_train, y_train_vector, bs, shuffle=True)\n",
    "        sess.run(train_step, feed_dict={x: x_batch, y: y_batch, learning_rate: lr, batch_size:bs})\n",
    "        if i%int(data_train_length/bs)==0:\n",
    "            # Error for a training and validation set\n",
    "            error_train = 1 - accuracy.eval(feed_dict={x: x_train, y: y_train_vector})\n",
    "            error_valid = 1 - accuracy.eval(feed_dict={x: x_valid, y: y_valid_vector})\n",
    "            print(error_train, error_valid)\n",
    "            Validation_error.append(error_valid)\n",
    "    Validation_error_dict1[ str(bs) ] = Validation_error  "
   ]
  },
  {
   "cell_type": "code",
   "execution_count": 54,
   "metadata": {
    "collapsed": false
   },
   "outputs": [
    {
     "data": {
      "image/png": "[encoded data removed]",
      "text/plain": [
       "<matplotlib.figure.Figure at 0x1cf2425f080>"
      ]
     },
     "metadata": {},
     "output_type": "display_data"
    }
   ],
   "source": [
    "plt.figure(1)\n",
    "plt.clf()\n",
    "for bs in batch_sizes:\n",
    "    plt.plot(range(1,max_num_of_epochs+2), Validation_error_dict1[ str(bs) ][0:22],'-',lw=3)\n",
    "plt.xlabel('Epoch number',fontsize = 14)\n",
    "plt.ylabel('Error on the validation set',fontsize = 14)\n",
    "plt.xlim(0,22)\n",
    "\n",
    "plt.yticks(np.linspace(0,0.1,10))\n",
    "plt.ylim(0,0.1)\n",
    "plt.legend(['Batch size = 50','Batch_size = 100','Batch_size = 200',\n",
    "           'Batch_size = 500'],frameon = False)\n",
    "plt.title(\"Learning rate of 0.0003\")\n",
    "plt.show()"
   ]
  },
  {
   "cell_type": "markdown",
   "metadata": {},
   "source": [
    "From now on we will use learning rate of 0.0003 and batch size of 50"
   ]
  },
  {
   "cell_type": "code",
   "execution_count": 55,
   "metadata": {
    "collapsed": false
   },
   "outputs": [
    {
     "name": "stdout",
     "output_type": "stream",
     "text": [
      "0.868258535862 0.863254696131\n",
      "0.060882627964 0.0636745095253\n",
      "0.0346543192863 0.0404838323593\n",
      "0.0249280929565 0.0320871472359\n",
      "0.0205275416374 0.0294882059097\n",
      "0.0156769752502 0.0243902206421\n",
      "0.0144518017769 0.0232906937599\n",
      "0.0159519910812 0.028088748455\n",
      "0.0130266547203 0.0241903066635\n",
      "0.00735092163086 0.018092751503\n",
      "0.0065758228302 0.0188924670219\n"
     ]
    }
   ],
   "source": [
    "lr = 0.0003\n",
    "bs = 50\n",
    "max_num_of_epochs = 10\n",
    "sess = tf.InteractiveSession()\n",
    "# Initializing all the variables\n",
    "sess.run(tf.global_variables_initializer())\n",
    "Validation_error_model1 = []\n",
    "for i in range(int(max_num_of_epochs*data_train_length/bs)):\n",
    "    x_batch, y_batch = create_minibatches(x_train, y_train_vector, bs, shuffle=True)\n",
    "    sess.run(train_step, feed_dict={x: x_batch, y: y_batch, learning_rate: lr, batch_size: bs})\n",
    "    if i%int(data_train_length/bs)==0:\n",
    "        # Error for a training and validation set\n",
    "        error_train = 1 - accuracy.eval(feed_dict={x: x_train, y: y_train_vector})\n",
    "        error_valid = 1 - accuracy.eval(feed_dict={x: x_valid, y: y_valid_vector})\n",
    "        print(error_train, error_valid)\n",
    "        Validation_error_model1.append(error_valid)"
   ]
  },
  {
   "cell_type": "code",
   "execution_count": 57,
   "metadata": {
    "collapsed": false
   },
   "outputs": [
    {
     "data": {
      "image/png": "[encoded data removed]",
      "text/plain": [
       "<matplotlib.figure.Figure at 0x1cf24231630>"
      ]
     },
     "metadata": {},
     "output_type": "display_data"
    }
   ],
   "source": [
    "plt.figure(3)\n",
    "plt.clf()\n",
    "plt.plot(range(1,max_num_of_epochs+2), Validation_error_model1,'-',lw=3)\n",
    "plt.xlabel('Epoch number',fontsize = 14)\n",
    "plt.ylabel('Error on the validation set',fontsize = 14)\n",
    "plt.xlim(0,11)\n",
    "\n",
    "plt.yticks(np.linspace(0,1,10))\n",
    "plt.ylim(0,1)\n",
    "plt.legend(['Learning rate = 0.0003 and batch size = 50'],frameon = False)\n",
    "plt.show()"
   ]
  },
  {
   "cell_type": "code",
   "execution_count": 58,
   "metadata": {
    "collapsed": false
   },
   "outputs": [
    {
     "data": {
      "image/png": "[encoded data removed]",
      "text/plain": [
       "<matplotlib.figure.Figure at 0x1cf2412dd30>"
      ]
     },
     "metadata": {},
     "output_type": "display_data"
    }
   ],
   "source": [
    "indices1 = plotting_filters_on_convolution_layer_1(W_conv1, 6, 7)"
   ]
  },
  {
   "cell_type": "code",
   "execution_count": 59,
   "metadata": {
    "collapsed": false
   },
   "outputs": [
    {
     "data": {
      "image/png": "[encoded data removed]",
      "text/plain": [
       "<matplotlib.figure.Figure at 0x1cf23ca8f60>"
      ]
     },
     "metadata": {},
     "output_type": "display_data"
    }
   ],
   "source": [
    "visualizing_feature_maps(output_conv_layer = output_conv_layer1, image = x_train[0], num_feature_maps_we_want_to_plot = 6, \n",
    "                         indices = indices1, figure_num = 8)"
   ]
  },
  {
   "cell_type": "code",
   "execution_count": 60,
   "metadata": {
    "collapsed": false
   },
   "outputs": [
    {
     "name": "stdout",
     "output_type": "stream",
     "text": [
      "Accuracy for a training set  0.993274 Error for a training set  0.0067258477211\n",
      "Accuracy for a validation set 0.979908 Error for a validation set  0.0200919508934\n",
      "Accuracy for a test set 0.980898 Error for a test set  0.0191019177437\n"
     ]
    }
   ],
   "source": [
    "# Accuracy and error for a training dataset\n",
    "print(\"Accuracy for a training set \", accuracy.eval(feed_dict={x: x_train, y: y_train_vector}), \n",
    "      \"Error for a training set \", 1- accuracy.eval(feed_dict={x: x_train, y: y_train_vector}))\n",
    "# Accuracy and error for a validation set\n",
    "print(\"Accuracy for a validation set\", accuracy.eval(feed_dict={x: x_valid, y: y_valid_vector}), \n",
    "      \"Error for a validation set \", 1- accuracy.eval(feed_dict={x: x_valid, y: y_valid_vector}))\n",
    "# Accuracy and error for a test set\n",
    "print(\"Accuracy for a test set\", accuracy.eval(feed_dict={x: x_test, y: y_test_vector}), \n",
    "      \"Error for a test set \", 1- accuracy.eval(feed_dict={x: x_test, y: y_test_vector}))"
   ]
  },
  {
   "cell_type": "code",
   "execution_count": 61,
   "metadata": {
    "collapsed": true
   },
   "outputs": [],
   "source": [
    "sess.close()"
   ]
  },
  {
   "cell_type": "markdown",
   "metadata": {
    "collapsed": false
   },
   "source": [
    "## Second model with two convolutional layers and two fully connected layers"
   ]
  },
  {
   "cell_type": "code",
   "execution_count": 62,
   "metadata": {
    "collapsed": false
   },
   "outputs": [],
   "source": [
    "# Defining configuration of our neural network:\n",
    "\n",
    "# Convolution layer 1\n",
    "kernel_size1 = 5 \n",
    "num_kernels1 = 6\n",
    "stride_step1 = 1\n",
    "\n",
    "# Convolution layer 2\n",
    "kernel_size2 = 5 \n",
    "num_kernels2 = 16\n",
    "stride_step2 = 1\n",
    "\n",
    "# Fully connected layers \n",
    "hidden_layer_size1 = 120       \n",
    "hidden_layer_size2 = 80  \n",
    "\n",
    "data_train_length = len(x_train)"
   ]
  },
  {
   "cell_type": "code",
   "execution_count": 63,
   "metadata": {
    "collapsed": false
   },
   "outputs": [
    {
     "name": "stdout",
     "output_type": "stream",
     "text": [
      "Tensor(\"MaxPool_1:0\", shape=(?, 12, 12, 6), dtype=float32)\n",
      "Tensor(\"MaxPool_2:0\", shape=(?, 4, 4, 16), dtype=float32)\n",
      "Tensor(\"l1_model2/mul:0\", shape=(256, 120), dtype=float32)\n",
      "Tensor(\"l1_model2/mul_1:0\", shape=(120,), dtype=float32)\n",
      "Tensor(\"l2_model2/mul:0\", shape=(120, 80), dtype=float32)\n",
      "Tensor(\"l2_model2/mul_1:0\", shape=(80,), dtype=float32)\n"
     ]
    }
   ],
   "source": [
    "# Reshaping the x vector into a tensor so that we can feed it to our convolutional layer which accepts only \n",
    "# 4 dimensional tensors\n",
    "x_reshaped_as_image = tf.reshape(x, [-1,28,28,1])\n",
    "        \n",
    "output_conv_layer1, W_conv1_model2 = convolution_layer_builder(input = x_reshaped_as_image, kernel_size = kernel_size1,\n",
    "                                                       num_kernels = num_kernels1, stride_step = stride_step1, \n",
    "                                                       num_inputs_channels = 1, scope_name = \"W_conv1_model2\")\n",
    "#Adding the second convolutional layer to our model\n",
    "output_conv_layer2, W_conv2_model2 = convolution_layer_builder(input = output_conv_layer1, kernel_size = kernel_size2,\n",
    "                                                       num_kernels = num_kernels2, stride_step = stride_step2, \n",
    "                                                       num_inputs_channels = num_kernels1, scope_name = \"W_conv2_model2\")\n",
    "        \n",
    "output_conv_layer2_reshaped, total_num_features = reshaping_output_con_layer(output_conv_layer2)\n",
    "# Adding fully connected layers\n",
    "output_fc_layer1 = fully_connected_layer_builder(input = output_conv_layer2_reshaped, hidden_layer_size=hidden_layer_size1,\n",
    "                                                         total_num_features = total_num_features, scope_name = \"l1_model2\")\n",
    "output_fc_layer2 = fully_connected_layer_builder(input = output_fc_layer1, hidden_layer_size=hidden_layer_size2,\n",
    "                                                         total_num_features = hidden_layer_size1, scope_name = \"l2_model2\")\n",
    "#Initializing weights for the final layer\n",
    "Theta2 = np.sqrt(2)*tf.get_variable(\"Theta2_model2\", shape=[hidden_layer_size2,10],\n",
    "                                        initializer=tf.contrib.layers.xavier_initializer())\n",
    "b2 = np.sqrt(2)*tf.get_variable(\"b2_model2\", shape=[10],initializer=tf.contrib.layers.xavier_initializer())\n",
    "        \n",
    "a3=tf.matmul(output_fc_layer2,Theta2) + b2\n",
    "y_predicted = tf.nn.softmax(a3)\n",
    "# Calculcating loss (cross entropy function)\n",
    "cross_entropy = tf.reduce_mean(tf.nn.softmax_cross_entropy_with_logits(labels=y, logits=a3))\n",
    "\n",
    "# Model training using Adam optimizer using learning rate of 0.0003\n",
    "train_step = tf.train.AdamOptimizer(learning_rate).minimize(cross_entropy)\n",
    "correct_prediction = tf.equal(tf.argmax(y_predicted,1), tf.argmax(y,1))\n",
    "accuracy = tf.reduce_mean(tf.cast(correct_prediction, tf.float32))"
   ]
  },
  {
   "cell_type": "code",
   "execution_count": 64,
   "metadata": {
    "collapsed": false
   },
   "outputs": [
    {
     "name": "stdout",
     "output_type": "stream",
     "text": [
      "0.898887358606 0.89914034307\n",
      "0.0543068051338 0.0547780990601\n",
      "0.0318539738655 0.0377848744392\n",
      "0.023677945137 0.0289884209633\n",
      "0.0172271728516 0.0239903926849\n",
      "0.0132516622543 0.0194922089577\n",
      "0.0137267112732 0.0212914943695\n",
      "0.0142768025398 0.0226909518242\n",
      "0.0102012753487 0.0193922519684\n",
      "0.0104262828827 0.0174930095673\n",
      "0.00940120220184 0.0178928375244\n"
     ]
    }
   ],
   "source": [
    "lr = 0.0003\n",
    "bs = 50\n",
    "max_num_of_epochs = 10\n",
    "sess = tf.InteractiveSession()\n",
    "# Initializing all the variables\n",
    "sess.run(tf.global_variables_initializer())\n",
    "Validation_error_model2 = []\n",
    "for i in range(int(max_num_of_epochs*data_train_length/bs)):\n",
    "    x_batch, y_batch = create_minibatches(x_train, y_train_vector, bs, shuffle=True)\n",
    "    sess.run(train_step, feed_dict={x: x_batch, y: y_batch,learning_rate: lr, batch_size: bs })\n",
    "    if i%int(data_train_length/bs)==0:\n",
    "        # Error for a training and validation set\n",
    "        error_train = 1 - accuracy.eval(feed_dict={x: x_train, y: y_train_vector})\n",
    "        error_valid = 1 - accuracy.eval(feed_dict={x: x_valid, y: y_valid_vector})\n",
    "        print(error_train, error_valid)\n",
    "        Validation_error_model2.append(error_valid)"
   ]
  },
  {
   "cell_type": "code",
   "execution_count": 65,
   "metadata": {
    "collapsed": false
   },
   "outputs": [
    {
     "data": {
      "image/png": "[encoded data removed]",
      "text/plain": [
       "<matplotlib.figure.Figure at 0x1cf23ba0ef0>"
      ]
     },
     "metadata": {},
     "output_type": "display_data"
    }
   ],
   "source": [
    "plt.figure(4)\n",
    "plt.clf()\n",
    "plt.plot(range(1,max_num_of_epochs+2), Validation_error_model2,'-',lw=3)\n",
    "plt.xlabel('Epoch number',fontsize = 14)\n",
    "plt.ylabel('Error on the validation set',fontsize = 14)\n",
    "plt.xlim(0,11)\n",
    "\n",
    "plt.yticks(np.linspace(0,1,10))\n",
    "plt.ylim(0,1)\n",
    "plt.legend(['Learning rate = 0.0003 and batch size = 50'],frameon = False)\n",
    "plt.show()"
   ]
  },
  {
   "cell_type": "code",
   "execution_count": 66,
   "metadata": {
    "collapsed": false
   },
   "outputs": [
    {
     "data": {
      "image/png": "[encoded data removed]",
      "text/plain": [
       "<matplotlib.figure.Figure at 0x1cf23430e10>"
      ]
     },
     "metadata": {},
     "output_type": "display_data"
    }
   ],
   "source": [
    "indices1 = plotting_filters_on_convolution_layer_1(W_conv1_model2, 6, figure_num =9)"
   ]
  },
  {
   "cell_type": "code",
   "execution_count": 67,
   "metadata": {
    "collapsed": false
   },
   "outputs": [
    {
     "data": {
      "image/png": "[encoded data removed]",
      "text/plain": [
       "<matplotlib.figure.Figure at 0x1cf2450c470>"
      ]
     },
     "metadata": {},
     "output_type": "display_data"
    }
   ],
   "source": [
    "visualizing_feature_maps(output_conv_layer = output_conv_layer1, image = x_train[0], num_feature_maps_we_want_to_plot = 6, \n",
    "                         indices = indices1, figure_num = 10)"
   ]
  },
  {
   "cell_type": "code",
   "execution_count": 68,
   "metadata": {
    "collapsed": false
   },
   "outputs": [
    {
     "name": "stdout",
     "output_type": "stream",
     "text": [
      "Accuracy for a training set  0.991874 Error for a training set  0.00812602043152\n",
      "Accuracy for a validation set 0.983207 Error for a validation set  0.0167933106422\n",
      "Accuracy for a test set 0.984598 Error for a test set  0.0154015421867\n"
     ]
    }
   ],
   "source": [
    "# Accuracy and error for a training dataset\n",
    "print(\"Accuracy for a training set \", accuracy.eval(feed_dict={x: x_train, y: y_train_vector}), \n",
    "      \"Error for a training set \", 1- accuracy.eval(feed_dict={x: x_train, y: y_train_vector}))\n",
    "# Accuracy and error for a validation set\n",
    "print(\"Accuracy for a validation set\", accuracy.eval(feed_dict={x: x_valid, y: y_valid_vector}), \n",
    "      \"Error for a validation set \", 1- accuracy.eval(feed_dict={x: x_valid, y: y_valid_vector}))\n",
    "# Accuracy and error for a test set\n",
    "print(\"Accuracy for a test set\", accuracy.eval(feed_dict={x: x_test, y: y_test_vector}), \n",
    "      \"Error for a test set \", 1- accuracy.eval(feed_dict={x: x_test, y: y_test_vector}))"
   ]
  },
  {
   "cell_type": "code",
   "execution_count": 69,
   "metadata": {
    "collapsed": true
   },
   "outputs": [],
   "source": [
    "sess.close()"
   ]
  },
  {
   "cell_type": "markdown",
   "metadata": {
    "collapsed": true
   },
   "source": [
    "## Third model with two convolutional layers and two fully connected layers"
   ]
  },
  {
   "cell_type": "code",
   "execution_count": 13,
   "metadata": {
    "collapsed": false
   },
   "outputs": [],
   "source": [
    "# Defining configuration of our neural network:\n",
    "\n",
    "# Convolution layer 1\n",
    "kernel_size1 = 5 \n",
    "num_kernels1 = 32\n",
    "stride_step1 = 1\n",
    "\n",
    "# Convolution layer 2\n",
    "kernel_size2 = 5 \n",
    "num_kernels2 = 64\n",
    "stride_step2 = 1\n",
    "\n",
    "# Convolution layer 3\n",
    "kernel_size3 = 1 \n",
    "num_kernels3 = 128\n",
    "stride_step3 = 1\n",
    "\n",
    "# Fully connected layer \n",
    "hidden_layer_size1 = 1024       \n",
    "\n",
    "data_train_length = len(x_train)"
   ]
  },
  {
   "cell_type": "code",
   "execution_count": 14,
   "metadata": {
    "collapsed": false
   },
   "outputs": [
    {
     "name": "stdout",
     "output_type": "stream",
     "text": [
      "Tensor(\"MaxPool:0\", shape=(?, 12, 12, 32), dtype=float32)\n",
      "Tensor(\"MaxPool_1:0\", shape=(?, 4, 4, 64), dtype=float32)\n",
      "Tensor(\"MaxPool_2:0\", shape=(?, 2, 2, 128), dtype=float32)\n",
      "Tensor(\"l1_model3/mul:0\", shape=(512, 1024), dtype=float32)\n",
      "Tensor(\"l1_model3/mul_1:0\", shape=(1024,), dtype=float32)\n"
     ]
    }
   ],
   "source": [
    "# Reshaping the x vector into a tensor so that we can feed it to our convolutional layer which accepts only \n",
    "# 4 dimensional tensors\n",
    "x_reshaped_as_image = tf.reshape(x, [-1,28,28,1])\n",
    "        \n",
    "output_conv_layer1, W_conv1_model3 = convolution_layer_builder(input = x_reshaped_as_image, kernel_size = kernel_size1,\n",
    "                                                       num_kernels = num_kernels1, stride_step = stride_step1, \n",
    "                                                       num_inputs_channels = 1, scope_name = \"W_conv1_model3\")\n",
    "#Adding the second convolutional layer to our model\n",
    "output_conv_layer2, W_conv2_model3 = convolution_layer_builder(input = output_conv_layer1, kernel_size = kernel_size2,\n",
    "                                                       num_kernels = num_kernels2, stride_step = stride_step2, \n",
    "                                                       num_inputs_channels = num_kernels1, scope_name = \"W_conv2_model3\")\n",
    "#Adding the third convolutional layer to our model\n",
    "output_conv_layer3, W_conv3_model3 = convolution_layer_builder(input = output_conv_layer2, kernel_size = kernel_size3,\n",
    "                                                       num_kernels = num_kernels3, stride_step = stride_step3, \n",
    "                                                       num_inputs_channels = num_kernels2, scope_name = \"W_conv3_model3\")\n",
    "        \n",
    "output_conv_layer3_reshaped, total_num_features = reshaping_output_con_layer(output_conv_layer3)\n",
    "# Adding fully connected layers\n",
    "output_fc_layer1 = fully_connected_layer_builder(input = output_conv_layer3_reshaped, hidden_layer_size=hidden_layer_size1,\n",
    "                                                         total_num_features = total_num_features, scope_name = \"l1_model3\")\n",
    "\n",
    "#Initializing weights for the final layer\n",
    "Theta2_model3 = np.sqrt(2)*tf.get_variable(\"Theta2_model3\", shape=[hidden_layer_size1,10],\n",
    "                                        initializer=tf.contrib.layers.xavier_initializer())\n",
    "b2_model3 = np.sqrt(2)*tf.get_variable(\"b2_model3\", shape=[10],initializer=tf.contrib.layers.xavier_initializer())\n",
    "        \n",
    "a3=tf.matmul(output_fc_layer1,Theta2_model3) + b2_model3\n",
    "y_predicted = tf.nn.softmax(a3)\n",
    "# Calculcating loss (cross entropy function)\n",
    "cross_entropy = tf.reduce_mean(tf.nn.softmax_cross_entropy_with_logits(labels=y, logits=a3))\n",
    "\n",
    "# Model training using Adam optimizer using learning rate of 0.0003\n",
    "train_step = tf.train.AdamOptimizer(learning_rate).minimize(cross_entropy)\n",
    "correct_prediction = tf.equal(tf.argmax(y_predicted,1), tf.argmax(y,1))\n",
    "accuracy = tf.reduce_mean(tf.cast(correct_prediction, tf.float32))"
   ]
  },
  {
   "cell_type": "code",
   "execution_count": 15,
   "metadata": {
    "collapsed": false
   },
   "outputs": [
    {
     "name": "stdout",
     "output_type": "stream",
     "text": [
      "(0.90236279368400574, 0.90503798425197601)\n",
      "(0.03510439395904541, 0.041183531284332275)\n",
      "(0.014276802539825439, 0.019892036914825439)\n",
      "(0.0087261199951171875, 0.014894068241119385)\n",
      "(0.010276257991790771, 0.016293466091156006)\n",
      "(0.0079510211944580078, 0.013994395732879639)\n",
      "(0.0055257081985473633, 0.012095153331756592)\n",
      "(0.0076759457588195801, 0.014894068241119385)\n",
      "(0.0039004683494567871, 0.011695325374603271)\n",
      "(0.0021502971649169922, 0.008996427059173584)\n",
      "(0.0027003288269042969, 0.010595738887786865)\n"
     ]
    }
   ],
   "source": [
    "lr = 0.0003\n",
    "bs = 50\n",
    "max_num_of_epochs = 10\n",
    "sess = tf.InteractiveSession()\n",
    "# Initializing all the variables\n",
    "sess.run(tf.global_variables_initializer())\n",
    "Validation_error_model3 = []\n",
    "for i in range(int(max_num_of_epochs*data_train_length/bs)):\n",
    "    x_batch, y_batch = create_minibatches(x_train, y_train_vector, bs, shuffle=True)\n",
    "    sess.run(train_step, feed_dict={x: x_batch, y: y_batch, learning_rate: lr, batch_size: bs})\n",
    "    if i%int(data_train_length/bs)==0:\n",
    "        # Error for a training and validation set\n",
    "        error_train = 1 - accuracy.eval(feed_dict={x: x_train, y: y_train_vector})\n",
    "        error_valid = 1 - accuracy.eval(feed_dict={x: x_valid, y: y_valid_vector})\n",
    "        print(error_train, error_valid)\n",
    "        Validation_error_model3.append(error_valid)"
   ]
  },
  {
   "cell_type": "code",
   "execution_count": 16,
   "metadata": {
    "collapsed": false
   },
   "outputs": [
    {
     "data": {
      "image/png": "[encoded data removed]",
      "text/plain": [
       "<matplotlib.figure.Figure at 0x127f75250>"
      ]
     },
     "metadata": {},
     "output_type": "display_data"
    }
   ],
   "source": [
    "plt.figure(5)\n",
    "plt.clf()\n",
    "plt.plot(range(1,max_num_of_epochs+2), Validation_error_model3,'-',lw=3)\n",
    "plt.xlabel('Epoch number',fontsize = 14)\n",
    "plt.ylabel('Error on the validation set',fontsize = 14)\n",
    "plt.xlim(0,11)\n",
    "\n",
    "plt.yticks(np.linspace(0,1,10))\n",
    "plt.ylim(0,1)\n",
    "plt.legend(['Learning rate = 0.0003 and batch size = 50'],frameon = False)\n",
    "plt.show()"
   ]
  },
  {
   "cell_type": "code",
   "execution_count": 17,
   "metadata": {
    "collapsed": false
   },
   "outputs": [
    {
     "data": {
      "image/png": "[encoded data removed]",
      "text/plain": [
       "<matplotlib.figure.Figure at 0x11ba75310>"
      ]
     },
     "metadata": {},
     "output_type": "display_data"
    }
   ],
   "source": [
    "indices1 = plotting_filters_on_convolution_layer_1(W_conv1_model3, 6, figure_num =11)"
   ]
  },
  {
   "cell_type": "code",
   "execution_count": 25,
   "metadata": {
    "collapsed": false
   },
   "outputs": [
    {
     "data": {
      "image/png": "[encoded data removed]",
      "text/plain": [
       "<matplotlib.figure.Figure at 0x11f3a1050>"
      ]
     },
     "metadata": {},
     "output_type": "display_data"
    }
   ],
   "source": [
    "visualizing_feature_maps(output_conv_layer = output_conv_layer1, image = x_train[0], num_feature_maps_we_want_to_plot = 6, \n",
    "                         indices = indices1, figure_num = 12)"
   ]
  },
  {
   "cell_type": "code",
   "execution_count": 26,
   "metadata": {
    "collapsed": false
   },
   "outputs": [
    {
     "name": "stdout",
     "output_type": "stream",
     "text": [
      "('Accuracy for a training set ', 0.99654955, 'Error for a training set ', 0.0034504532814025879)\n",
      "('Accuracy for a validation set', 0.9880048, 'Error for a validation set ', 0.011995196342468262)\n",
      "('Accuracy for a test set', 0.99109912, 'Error for a test set ', 0.0089008808135986328)\n"
     ]
    }
   ],
   "source": [
    "# Accuracy and error for a training dataset\n",
    "print(\"Accuracy for a training set \", accuracy.eval(feed_dict={x: x_train, y: y_train_vector}), \n",
    "      \"Error for a training set \", 1- accuracy.eval(feed_dict={x: x_train, y: y_train_vector}))\n",
    "# Accuracy and error for a validation set\n",
    "print(\"Accuracy for a validation set\", accuracy.eval(feed_dict={x: x_valid, y: y_valid_vector}), \n",
    "      \"Error for a validation set \", 1- accuracy.eval(feed_dict={x: x_valid, y: y_valid_vector}))\n",
    "# Accuracy and error for a test set\n",
    "print(\"Accuracy for a test set\", accuracy.eval(feed_dict={x: x_test, y: y_test_vector}), \n",
    "      \"Error for a test set \", 1- accuracy.eval(feed_dict={x: x_test, y: y_test_vector}))"
   ]
  },
  {
   "cell_type": "code",
   "execution_count": 20,
   "metadata": {
    "collapsed": false
   },
   "outputs": [],
   "source": [
    "sess.close()"
   ]
  },
  {
   "cell_type": "code",
   "execution_count": null,
   "metadata": {
    "collapsed": true
   },
   "outputs": [],
   "source": []
  }
 ],
 "metadata": {
  "kernelspec": {
   "display_name": "Python 2",
   "language": "python",
   "name": "python2"
  },
  "language_info": {
   "codemirror_mode": {
    "name": "ipython",
    "version": 2
   },
   "file_extension": ".py",
   "mimetype": "text/x-python",
   "name": "python",
   "nbconvert_exporter": "python",
   "pygments_lexer": "ipython2",
   "version": "2.7.10"
  }
 },
 "nbformat": 4,
 "nbformat_minor": 0
}
